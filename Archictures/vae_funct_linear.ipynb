{
  "cells": [
    {
      "cell_type": "code",
      "execution_count": 2,
      "metadata": {
        "colab": {
          "base_uri": "https://localhost:8080/"
        },
        "id": "pWi0w8G07_2G",
        "outputId": "d7b6c2e4-6c31-4122-be65-e9bef0352d76"
      },
      "outputs": [],
      "source": [
        "import numpy as np\n",
        "import h5py\n",
        "import numpy as np\n",
        "from scipy.integrate import solve_ivp\n",
        "import torch.nn as nn\n",
        "import torch.nn.functional as F\n",
        "import torch.optim as optim\n",
        "import sys\n",
        "import torch\n",
        "import matplotlib.pyplot as plt\n",
        "from torch.utils.data import TensorDataset, DataLoader\n"
      ]
    },
    {
      "cell_type": "code",
      "execution_count": null,
      "metadata": {
        "id": "n8jD34tx8HAT"
      },
      "outputs": [
        {
          "name": "stdout",
          "output_type": "stream",
          "text": [
            "(299400, 2, 75)\n",
            "(299400, 75)\n",
            "(598800, 1, 75)\n"
          ]
        }
      ],
      "source": [
        "psi = np.load('/home/fabio/work/HM_and_AI_models/VAE_Model/x_stoch.npy')\n",
        "\n",
        "\n",
        "\n",
        "print(psi.shape)\n",
        "\n",
        "psi_one = psi[:, 0, :]  \n",
        "print(psi_one.shape)\n",
        "# # psi_one = psi_one[:, :]\n",
        "\n",
        "psi_two = psi[:, 1, :]\n",
        "# # psi_two  = psi_two[:, :]\n",
        "\n",
        "\n",
        "psi = np.concatenate((psi_one, psi_two), axis=0)\n",
        "psi = np.expand_dims(psi, axis=1)\n",
        "print(psi.shape)\n",
        "\n"
      ]
    },
    {
      "cell_type": "code",
      "execution_count": 24,
      "metadata": {
        "id": "1vKXlQjvFavj"
      },
      "outputs": [
        {
          "name": "stdout",
          "output_type": "stream",
          "text": [
            "mean_psi (1, 1, 75)\n",
            "torch.Size([400000, 1, 75])\n",
            "torch.Size([400000, 1, 75])\n",
            "torch.Size([50000, 1, 75])\n",
            "torch.Size([50000, 1, 75])\n"
          ]
        }
      ],
      "source": [
        "lead = 1\n",
        "\n",
        "trainN = 400000\n",
        "valN = 50000\n",
        "index = 63\n",
        "\n",
        "mean_psi = np.mean(psi, axis=0, keepdims=True)\n",
        "std_psi = np.std(psi, axis=0, keepdims=True)\n",
        "psi = (psi - mean_psi) / std_psi\n",
        "# min_value = np.min(psi)\n",
        "# psi = psi - min_value\n",
        "\n",
        "print(\"mean_psi\", std_psi.shape)\n",
        "\n",
        "\n",
        "psi_train_input = torch.tensor(psi[0:trainN,:], dtype=torch.float32)\n",
        "psi_train_shift_one =  torch.tensor(psi[lead:trainN+lead,:], dtype=torch.float32)\n",
        "\n",
        "psi_val_input = torch.tensor(psi[trainN:trainN+valN,:], dtype=torch.float32)\n",
        "psi_val_shift_one =  torch.tensor(psi[trainN+lead:trainN+valN+lead,:], dtype=torch.float32)\n",
        "\n",
        "print(psi_train_input.shape)\n",
        "print(psi_train_shift_one.shape)\n",
        "print(psi_val_input.shape)\n",
        "print(psi_val_shift_one.shape)\n"
      ]
    },
    {
      "cell_type": "code",
      "execution_count": 25,
      "metadata": {
        "id": "EVG1Hn1z-4br"
      },
      "outputs": [],
      "source": [
        "hidden_dim = 64\n",
        "\n",
        "class Encoder(nn.Module):\n",
        "    def __init__(self, latent_dim):\n",
        "        super(Encoder, self).__init__()\n",
        "        self.fc1 = nn.Linear(75, 256)\n",
        "        self.fc2 = nn.Linear(256, 256) \n",
        "        self.fc3 = nn.Linear(256, 256) \n",
        "        self.fc_mu = nn.Linear(256, latent_dim)  # Mean\n",
        "        self.fc_logvar = nn.Linear(256, latent_dim)  # Variance\n",
        "\n",
        "    def forward(self, x):\n",
        "        x = torch.nn.functional.leaky_relu(self.fc1(x))  # Activation function RELU\n",
        "        x = torch.nn.functional.leaky_relu(self.fc2(x))\n",
        "        x = torch.nn.functional.leaky_relu(self.fc3(x))\n",
        "        mu = self.fc_mu(x)\n",
        "        logvar = self.fc_logvar(x)\n",
        "        return mu, logvar\n",
        "\n",
        "\n",
        "\n",
        "class Decoder(nn.Module):\n",
        "    def __init__(self, latent_dim, output_dim, condition_dim):\n",
        "        super(Decoder, self).__init__()\n",
        "        self.fc1 = nn.Linear(latent_dim + condition_dim, 256)#Layer 1 256 Neurons\n",
        "        self.fc2 = nn.Linear(256, 256)  # Layer 2 256 Neurons\n",
        "        self.fc3 = nn.Linear(256, 256) # Layer 3 256 Neurons\n",
        "        self.fc_output = nn.Linear(256, output_dim) \n",
        "\n",
        "    def forward(self, z, condition):\n",
        "        z = torch.cat((z, condition), dim=2)  # Concatenate latent vector and condition\n",
        "        z = torch.nn.functional.leaky_relu(self.fc1(z))  \n",
        "        z = torch.nn.functional.leaky_relu(self.fc2(z))\n",
        "        z = torch.nn.functional.leaky_relu(self.fc3(z))\n",
        "        output = self.fc_output(z)\n",
        "        return output\n",
        "\n",
        "\n",
        "\n",
        "\n",
        "# Define the VAE model\n",
        "class ConditionalVAE(nn.Module):\n",
        "    def __init__(self, latent_dim, output_dim, condition_dim):\n",
        "        super(ConditionalVAE, self).__init__()\n",
        "        self.encoder = Encoder(latent_dim)\n",
        "        self.decoder = Decoder(latent_dim, output_dim, condition_dim)\n",
        "\n",
        "    def encode(self, x):\n",
        "        mu, logvar = self.encoder(x)\n",
        "        return mu, logvar\n",
        "\n",
        "    def reparameterize(self, mu, logvar):\n",
        "        std = torch.exp(0.5 * logvar)\n",
        "        eps = torch.randn_like(std)\n",
        "        z = mu + eps * std\n",
        "        return z\n",
        "\n",
        "    def decode(self, z, condition):\n",
        "        return self.decoder(z, condition)\n",
        "\n",
        "    def forward(self, x, condition):\n",
        "        mu, logvar = self.encode(x)\n",
        "        z = self.reparameterize(mu, logvar)\n",
        "        output = self.decode(z, condition)\n",
        "        return output, mu, logvar"
      ]
    },
    {
      "cell_type": "code",
      "execution_count": 39,
      "metadata": {},
      "outputs": [
        {
          "name": "stdout",
          "output_type": "stream",
          "text": [
            "400000\n"
          ]
        }
      ],
      "source": [
        "batch_size = 128\n",
        "\n",
        "train_dataset = TensorDataset(psi_train_shift_one, psi_train_input)\n",
        "train_loader = DataLoader(train_dataset, batch_size=batch_size, shuffle=False)\n",
        "\n",
        "val_dataset = TensorDataset(psi_val_shift_one, psi_val_input)\n",
        "val_loader = DataLoader(val_dataset, batch_size=batch_size, shuffle=False)\n",
        "print(len(train_dataset))\n",
        "\n"
      ]
    },
    {
      "cell_type": "code",
      "execution_count": 43,
      "metadata": {},
      "outputs": [
        {
          "name": "stdout",
          "output_type": "stream",
          "text": [
            "Epoch 1, Training Loss: 253.62082544265746\n",
            "Epoch 1, Reconstruction Loss: 10.993917465209961\n",
            "Epoch 2, Training Loss: 64.11763435447693\n",
            "Epoch 2, Reconstruction Loss: 5.859703063964844\n",
            "Epoch 3, Training Loss: 48.15124141937256\n",
            "Epoch 3, Reconstruction Loss: 3.747559070587158\n",
            "Epoch 4, Training Loss: 42.626302492294315\n",
            "Epoch 4, Reconstruction Loss: 2.629570484161377\n",
            "Epoch 5, Training Loss: 35.95843035118103\n",
            "Epoch 5, Reconstruction Loss: 2.320807695388794\n",
            "Epoch 6, Training Loss: 33.288472866516116\n",
            "Epoch 6, Reconstruction Loss: 2.4177093505859375\n",
            "Epoch 7, Training Loss: 32.511634971237186\n",
            "Epoch 7, Reconstruction Loss: 2.3387703895568848\n",
            "Epoch 8, Training Loss: 27.887552637939454\n",
            "Epoch 8, Reconstruction Loss: 2.1216824054718018\n",
            "Epoch 9, Training Loss: 27.025444008674622\n",
            "Epoch 9, Reconstruction Loss: 2.2771339416503906\n",
            "Epoch 10, Training Loss: 25.714650117416383\n",
            "Epoch 10, Reconstruction Loss: 2.1169276237487793\n"
          ]
        }
      ],
      "source": [
        "output_dim = 75\n",
        "condition_dim = 75\n",
        "latent_dim = 15\n",
        "batch_size = 64\n",
        "num_epochs = 10\n",
        "learning_rate = .0001\n",
        "kl_coef = .9\n",
        "\n",
        "# Initialize the model, optimizer, and loss function\n",
        "model = ConditionalVAE(latent_dim, output_dim, condition_dim)\n",
        "device = torch.device(\"cuda\" if torch.cuda.is_available() else \"cpu\")\n",
        "model = model.to(device)\n",
        "\n",
        "optimizer = optim.Adam(model.parameters(), lr=learning_rate)\n",
        "\n",
        "# Order is important: we want the batch to yield (target, condition)\n",
        "train_dataset = TensorDataset(psi_train_shift_one, psi_train_input)\n",
        "train_loader = DataLoader(train_dataset, batch_size=batch_size, shuffle=False)\n",
        "\n",
        "val_dataset = TensorDataset(psi_val_shift_one, psi_val_input)\n",
        "val_loader = DataLoader(val_dataset, batch_size=batch_size, shuffle=False)\n",
        "\n",
        "# Training loop using the DataLoader\n",
        "for epoch in range(num_epochs):\n",
        "    model.train()\n",
        "    running_loss = 0.0\n",
        "    \n",
        "    for label_batch, input_batch in train_loader:\n",
        "        # Move data to the correct device\n",
        "        label_batch = label_batch.to(device)\n",
        "        input_batch = input_batch.to(device)\n",
        "        \n",
        "        optimizer.zero_grad()\n",
        "        \n",
        "        # Forward pass: note the ordering (target, condition) should match your model definition.\n",
        "        reconstructed, mu, logvar = model(label_batch, input_batch)\n",
        "        \n",
        "        # Compute Reconstruction loss (here using simple MSE summed over all elements)\n",
        "        reconstruction_loss = ((reconstructed - label_batch) ** 2).sum()\n",
        "        \n",
        "        # Compute KL divergence loss\n",
        "        kl_loss = kl_coef * (mu.pow(2) + torch.exp(logvar) - 1 - logvar).sum()\n",
        "        \n",
        "        # Combine losses; note the KL term is weighted (0.01 factor here)\n",
        "        loss = reconstruction_loss + 0.01 * kl_loss\n",
        "        \n",
        "        loss.backward()\n",
        "        optimizer.step()\n",
        "        \n",
        "        running_loss += loss.item()\n",
        "    \n",
        "    avg_train_loss = running_loss / len(train_loader)\n",
        "    print(f\"Epoch {epoch+1}, Training Loss: {avg_train_loss}\")\n",
        "    print(f\"Epoch {epoch+1}, Reconstruction Loss: {reconstruction_loss}\")\n",
        "    \n",
        "    # Validation loop\n",
        "    # model.eval()\n",
        "    # running_val_loss = 0.0\n",
        "    # with torch.no_grad():\n",
        "    #     for label_batch, input_batch in val_loader:\n",
        "    #         label_batch = label_batch.to(device)\n",
        "    #         input_batch = input_batch.to(device)\n",
        "            \n",
        "    #         reconstructed, mu, logvar = model(label_batch, input_batch)\n",
        "            \n",
        "    #         reconstruction_loss = ((reconstructed - label_batch) ** 2).sum()\n",
        "    #         kl_loss = kl_coef * (mu.pow(2) + torch.exp(logvar) - 1 - logvar).sum()\n",
        "    #         loss = reconstruction_loss + 0.01 * kl_loss\n",
        "            \n",
        "    #         running_val_loss += loss.item()\n",
        "    \n",
        "    # avg_val_loss = running_val_loss / len(val_loader)\n",
        "    # print(f\"Epoch {epoch+1}, Validation Loss: {avg_val_loss}\")\n"
      ]
    },
    {
      "cell_type": "code",
      "execution_count": 44,
      "metadata": {},
      "outputs": [
        {
          "data": {
            "text/plain": [
              "<generator object Module.parameters at 0x7f04d773fb50>"
            ]
          },
          "execution_count": 44,
          "metadata": {},
          "output_type": "execute_result"
        }
      ],
      "source": [
        "model.parameters()"
      ]
    },
    {
      "cell_type": "code",
      "execution_count": null,
      "metadata": {},
      "outputs": [
        {
          "name": "stdout",
          "output_type": "stream",
          "text": [
            "Epoch 0, Loss: 0.9969\n",
            "Epoch 3, Loss: 0.9801\n",
            "Epoch 6, Loss: 0.9588\n",
            "Epoch 9, Loss: 0.9251\n",
            "Epoch 12, Loss: 0.8710\n",
            "Epoch 15, Loss: 0.7887\n",
            "Epoch 18, Loss: 0.6789\n",
            "Epoch 21, Loss: 0.5859\n",
            "Epoch 24, Loss: 0.5358\n",
            "Epoch 27, Loss: 0.4515\n",
            "Epoch 30, Loss: 0.3982\n",
            "Epoch 33, Loss: 0.3500\n",
            "Epoch 36, Loss: 0.3051\n",
            "Epoch 39, Loss: 0.2716\n",
            "Epoch 42, Loss: 0.2405\n",
            "Epoch 45, Loss: 0.2145\n",
            "Epoch 48, Loss: 0.1909\n"
          ]
        }
      ],
      "source": [
        "# Initialize the model, optimizer, etc.\n",
        "input_dim = 75       # Input dimension (75D vector)\n",
        "latent_dim = 64      # Latent space size\n",
        "output_dim = 75      # Output dimension (predicting next state)\n",
        "condition_dim = 75   # Conditioning on psi[t]\n",
        "\n",
        "model = ConditionalVAE(input_dim, latent_dim, output_dim, condition_dim, hidden_dim)\n",
        "device = torch.device(\"cuda\" if torch.cuda.is_available() else \"cpu\")\n",
        "model.to(device)\n",
        "optimizer = optim.Adam(model.parameters(), lr=1e-3)\n",
        "\n",
        "def vae_loss(recon_x, x, mu, logvar, kl_weight=0.0001):\n",
        "    # Reconstruction loss (MSE)\n",
        "    recon_loss = nn.MSELoss()(recon_x, x)\n",
        "    # KL Divergence loss, averaged over the batch\n",
        "    kl_loss = -0.5 * torch.sum(1 + logvar - mu.pow(2) - logvar.exp()) / x.shape[0]\n",
        "    return recon_loss + kl_weight * kl_loss\n",
        "\n",
        "\n",
        "num_epochs = 50\n",
        "for epoch in range(num_epochs):\n",
        "    model.train()\n",
        "    optimizer.zero_grad()\n",
        "    \n",
        "    train_input = psi_train_input.to(device)\n",
        "    train_target = psi_train_shift_one.to(device)\n",
        "\n",
        "    #Forward pass\n",
        "    original_vector, mu, logvar = model(train_target, train_input)\n",
        "    \n",
        "    # Compute loss comparing output with psi_train_shift_one\n",
        "    loss = vae_loss(original_vector, train_target, mu, logvar)\n",
        "    \n",
        "    # Backward pass and optimization\n",
        "    loss.backward()\n",
        "    optimizer.step()\n",
        "    \n",
        "    if epoch % 3 == 0:\n",
        "        print(f\"Epoch {epoch}, Loss: {loss.item():.4f}\")"
      ]
    },
    {
      "cell_type": "code",
      "execution_count": 49,
      "metadata": {},
      "outputs": [
        {
          "name": "stdout",
          "output_type": "stream",
          "text": [
            "Type: <class 'numpy.ndarray'>\n",
            "Shape: (1, 75)\n",
            "Time step: 0\n",
            "Time step: 5000\n",
            "Time step: 10000\n",
            "Time step: 15000\n",
            "Time step: 20000\n",
            "Time step: 25000\n",
            "Time step: 30000\n",
            "Time step: 35000\n"
          ]
        }
      ],
      "source": [
        "psi0 = np.array(psi[0])\n",
        "print(\"Type:\", type(psi0))\n",
        "print(\"Shape:\", psi0.shape)\n",
        "\n",
        "\n",
        "# Ensure the initial condition has shape [batch, sequence, features]\n",
        "initial_cond = torch.tensor(psi[0][0, :75], dtype=torch.float32).reshape(1, 1, 75).to(device)\n",
        "\n",
        "time_steps = 40000\n",
        "num_ens = 1\n",
        "pred = np.zeros((time_steps, 75, num_ens))\n",
        "model.eval()\n",
        "\n",
        "for k in range(time_steps):\n",
        "    for ens in range(num_ens):\n",
        "        # Sample a latent vector with shape [1, 1, latent_dim]\n",
        "        z = torch.randn((1, 1, latent_dim)).to(device)\n",
        "        \n",
        "        # Decode using the current condition; this will concatenate z and initial_cond along dim=2\n",
        "        y = model.decode(z, initial_cond)\n",
        "        \n",
        "        # y now has shape [1, 1, 75]; remove the extra dimensions\n",
        "        y_np = y.squeeze(0).squeeze(0).detach().cpu().numpy()  # now y_np is [75]\n",
        "        pred[k, :, ens] = y_np\n",
        "        \n",
        "        # If you want to denormalize your output:\n",
        "        y_denorm = (y_np * std_psi + mean_psi)\n",
        "        \n",
        "        # Prepare the new condition for the next step:\n",
        "        # First re-normalize it if needed\n",
        "        new_input = (y_denorm - mean_psi) / std_psi\n",
        "        new_input = new_input[:, 0, :]\n",
        "\n",
        "        # Now, new_input should have shape (75,) (or (1,75) – either way, adjust accordingly)\n",
        "        initial_cond = torch.tensor(new_input, dtype=torch.float32).reshape(1, 1, 75).to(device)\n",
        "    \n",
        "    if k % 5000 == 0:\n",
        "        print(\"Time step:\", k)\n",
        "\n"
      ]
    },
    {
      "cell_type": "code",
      "execution_count": 54,
      "metadata": {},
      "outputs": [
        {
          "name": "stdout",
          "output_type": "stream",
          "text": [
            "Ensemble mean prediction for feature 63: [0.83517468 0.87600082 0.8530978  ... 1.05626202 1.07970655 1.09624732]\n",
            "Total Negatives:  0\n",
            "Actual values for feature 63: [ 0.86649853  0.88435549  0.87524438 ... -1.07797182 -1.06723559\n",
            " -1.05755472]\n"
          ]
        }
      ],
      "source": [
        "# Denormalize final predictions:\n",
        "std_reshaped = std_psi[:, 0, :].reshape(1, 75, 1)\n",
        "mean_reshaped = mean_psi[:, 0, :].reshape(1, 75, 1)\n",
        "\n",
        "pred_denorm = pred * std_reshaped + mean_reshaped\n",
        "\n",
        "# For example, to compute the ensemble mean for feature 63:\n",
        "pred_mean = np.mean(pred_denorm[:, 63, :], axis=1)  # shape: (time_steps,)\n",
        "print(\"Ensemble mean prediction for feature 63:\", pred_mean)\n",
        "coutn = 0\n",
        "for val in pred_mean:\n",
        "    if val < 0:\n",
        "        coutn += 1\n",
        "\n",
        "\n",
        "print(\"Total Negatives: \", coutn)\n",
        "# Convert the first time_steps of test labels to a numpy array and denormalize feature 63:\n",
        "actual_values = psi_train_shift_one[:time_steps,0, 63].cpu().numpy() * std_psi[:, 0, 63] + mean_psi[:, 0, 63]\n",
        "print(\"Actual values for feature 63:\", actual_values)\n"
      ]
    },
    {
      "cell_type": "code",
      "execution_count": 53,
      "metadata": {
        "colab": {
          "base_uri": "https://localhost:8080/",
          "height": 447
        },
        "id": "uKQtdSgrKGu8",
        "outputId": "2b8b4b39-035b-44f5-84fc-5842a7cfcf25"
      },
      "outputs": [
        {
          "data": {
            "text/plain": [
              "[<matplotlib.lines.Line2D at 0x7f04d6e8cb80>]"
            ]
          },
          "execution_count": 53,
          "metadata": {},
          "output_type": "execute_result"
        },
        {
          "data": {
            "image/png": "[encoded data removed]",
            "text/plain": [
              "<Figure size 640x480 with 1 Axes>"
            ]
          },
          "metadata": {},
          "output_type": "display_data"
        }
      ],
      "source": [
        "plt.plot(pred_mean[0:30000],'r')\n",
        "plt.plot(actual_values[0:30000],'b')\n"
      ]
    },
    {
      "cell_type": "code",
      "execution_count": null,
      "metadata": {
        "colab": {
          "base_uri": "https://localhost:8080/"
        },
        "id": "CR3V41T9Nr6-",
        "outputId": "67f96665-ac3f-42d4-fd82-c9fc0f3b03da"
      },
      "outputs": [
        {
          "data": {
            "text/plain": [
              "array([6])"
            ]
          },
          "execution_count": 164,
          "metadata": {},
          "output_type": "execute_result"
        }
      ],
      "source": [
        "np.random.randint(0,9,1)"
      ]
    },
    {
      "cell_type": "code",
      "execution_count": null,
      "metadata": {},
      "outputs": [],
      "source": [
        "np.savez(r'/home/fabio/work/HM_and_AI_models/VAE_Model/predictions' ,\n",
        "         predictions=pred_mean, mean_psi=mean_psi, std_psi=std_psi, actual_values=actual_values)"
      ]
    }
  ],
  "metadata": {
    "accelerator": "GPU",
    "colab": {
      "gpuType": "T4",
      "provenance": []
    },
    "kernelspec": {
      "display_name": "Python 3",
      "language": "python",
      "name": "python3"
    },
    "language_info": {
      "codemirror_mode": {
        "name": "ipython",
        "version": 3
      },
      "file_extension": ".py",
      "mimetype": "text/x-python",
      "name": "python",
      "nbconvert_exporter": "python",
      "pygments_lexer": "ipython3",
      "version": "3.10.12"
    }
  },
  "nbformat": 4,
  "nbformat_minor": 0
}
