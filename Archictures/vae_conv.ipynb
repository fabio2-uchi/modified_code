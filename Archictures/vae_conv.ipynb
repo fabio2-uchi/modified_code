{
  "cells": [
    {
      "cell_type": "code",
      "execution_count": 1,
      "metadata": {
        "colab": {
          "base_uri": "https://localhost:8080/"
        },
        "id": "pWi0w8G07_2G",
        "outputId": "d7b6c2e4-6c31-4122-be65-e9bef0352d76"
      },
      "outputs": [],
      "source": [
        "import numpy as np\n",
        "import h5py\n",
        "import numpy as np\n",
        "from scipy.integrate import solve_ivp\n",
        "import torch.nn as nn\n",
        "import torch.nn.functional as F\n",
        "import torch.optim as optim\n",
        "import sys\n",
        "import torch\n",
        "import matplotlib.pyplot as plt\n",
        "from torch.utils.data import TensorDataset, DataLoader\n"
      ]
    },
    {
      "cell_type": "code",
      "execution_count": 2,
      "metadata": {
        "id": "n8jD34tx8HAT"
      },
      "outputs": [],
      "source": [
        "psi = np.load('/home/fabio/work/HM_and_AI_models/VAE_Model/x_stoch.npy')\n",
        "\n"
      ]
    },
    {
      "cell_type": "code",
      "execution_count": 29,
      "metadata": {
        "id": "1vKXlQjvFavj"
      },
      "outputs": [
        {
          "name": "stdout",
          "output_type": "stream",
          "text": [
            "(299400, 75)\n",
            "(299400, 75)\n",
            "mean_psi (1, 75)\n",
            "torch.Size([200000, 75])\n",
            "torch.Size([200000, 75])\n",
            "torch.Size([50000, 75])\n",
            "torch.Size([50000, 75])\n"
          ]
        }
      ],
      "source": [
        "lead = 1\n",
        "\n",
        "trainN = 200000\n",
        "valN = 50000\n",
        "\n",
        "\n",
        "\n",
        "###Something funny goes on here,\n",
        "### Sometimes it reads a 3 dimensional array sometimes a 2 dimensional array\n",
        "\n",
        "print(psi.shape)\n",
        "psi = psi[:, :]\n",
        "print(psi.shape)\n",
        "\n",
        "mean_psi = np.mean(psi, axis=0, keepdims=True)\n",
        "std_psi = np.std(psi, axis=0, keepdims=True)\n",
        "psi = (psi - mean_psi) / std_psi\n",
        "# min_value = np.min(psi)\n",
        "# psi = psi - min_value\n",
        "\n",
        "print(\"mean_psi\", std_psi.shape)\n",
        "\n",
        "\n",
        "psi_train_input = torch.tensor(psi[0:trainN,:], dtype=torch.float32)\n",
        "psi_train_shift_one =  torch.tensor(psi[lead:trainN+lead,:], dtype=torch.float32)\n",
        "\n",
        "psi_val_input = torch.tensor(psi[trainN:trainN+valN,:], dtype=torch.float32)\n",
        "psi_val_shift_one =  torch.tensor(psi[trainN+lead:trainN+valN+lead,:], dtype=torch.float32)\n",
        "\n",
        "print(psi_train_input.shape)\n",
        "print(psi_train_shift_one.shape)\n",
        "print(psi_val_input.shape)\n",
        "print(psi_val_shift_one.shape)\n"
      ]
    },
    {
      "cell_type": "code",
      "execution_count": 31,
      "metadata": {
        "id": "EVG1Hn1z-4br"
      },
      "outputs": [],
      "source": [
        "import torch\n",
        "import torch.nn as nn\n",
        "import torch.nn.functional as F\n",
        "\n",
        "class Encoder(nn.Module):\n",
        "    def __init__(self, latent_dim):\n",
        "        super(Encoder, self).__init__()\n",
        "        # Input assumed to be (batch, 75). We add a channel dimension -> (batch, 1, 75)\n",
        "        self.conv1 = nn.Conv1d(in_channels=1, out_channels=32, kernel_size=3, padding=1)\n",
        "        self.pool = nn.MaxPool1d(kernel_size=2, stride=2)  # reduces length by factor of 2\n",
        "        self.conv2 = nn.Conv1d(in_channels=32, out_channels=64, kernel_size=3, padding=1)\n",
        "        self.conv3 = nn.Conv1d(in_channels=64, out_channels=128, kernel_size=3, padding=1)\n",
        "        # Use adaptive pooling to obtain a fixed-length output (here, length 16)\n",
        "        self.adaptive_pool = nn.AdaptiveAvgPool1d(output_size=16)\n",
        "        self.flatten = nn.Flatten()\n",
        "        # Map the flattened feature map to latent parameters\n",
        "        self.fc_mu = nn.Linear(128 * 16, latent_dim)\n",
        "        self.fc_logvar = nn.Linear(128 * 16, latent_dim)\n",
        "        \n",
        "    def forward(self, x):\n",
        "        # x: (batch, 75). Add channel dimension -> (batch, 1, 75)\n",
        "        if x.dim() == 2:\n",
        "            x = x.unsqueeze(1)\n",
        "        elif x.dim() == 3 and x.size(1) != 1:\n",
        "            x = x[:, :1, :]\n",
        "        x = F.leaky_relu(self.conv1(x))\n",
        "        x = self.pool(x)  # shape: (batch, 32, ~37)\n",
        "        x = F.leaky_relu(self.conv2(x))\n",
        "        x = self.pool(x)  # shape: (batch, 64, ~18)\n",
        "        x = F.leaky_relu(self.conv3(x))  # shape: (batch, 128, ~18)\n",
        "        x = self.adaptive_pool(x)  # shape: (batch, 128, 16)\n",
        "        x = self.flatten(x)      # shape: (batch, 128*16)\n",
        "        mu = self.fc_mu(x)\n",
        "        logvar = self.fc_logvar(x)\n",
        "        return mu, logvar\n",
        "\n",
        "\n",
        "class Decoder(nn.Module):\n",
        "    def __init__(self, latent_dim, output_dim, condition_dim):\n",
        "        super(Decoder, self).__init__()\n",
        "        # The input is the concatenated latent vector and condition.\n",
        "        # For example, if latent_dim=64 and condition_dim=75, total dim=139.\n",
        "        self.fc = nn.Linear(latent_dim + condition_dim, 128 * 16)\n",
        "        # Reshape the output of fc into a feature map and upsample using transposed convolutions.\n",
        "        self.deconv1 = nn.ConvTranspose1d(in_channels=128, out_channels=64, \n",
        "                                          kernel_size=3, stride=2, padding=1, output_padding=1)\n",
        "        self.deconv2 = nn.ConvTranspose1d(in_channels=64, out_channels=32, \n",
        "                                          kernel_size=3, stride=2, padding=1, output_padding=1)\n",
        "        self.deconv3 = nn.ConvTranspose1d(in_channels=32, out_channels=1, \n",
        "                                          kernel_size=3, stride=1, padding=1)\n",
        "        # Finally, upsample (or interpolate) to reach the desired output length (75)\n",
        "        self.upsample = nn.Upsample(size=output_dim, mode='linear', align_corners=False)\n",
        "\n",
        "    def forward(self, z, condition):\n",
        "        # z: (batch, latent_dim) and condition: (batch, condition_dim)\n",
        "        z = torch.cat((z, condition), dim=1)  # shape: (batch, latent_dim+condition_dim)\n",
        "        x = self.fc(z)                      # shape: (batch, 128*16)\n",
        "        x = x.view(-1, 128, 16)              # reshape to (batch, 128, 16)\n",
        "        x = F.leaky_relu(self.deconv1(x))    # e.g., output shape: (batch, 64, 32)\n",
        "        x = F.leaky_relu(self.deconv2(x))    # e.g., output shape: (batch, 32, 64)\n",
        "        x = F.leaky_relu(self.deconv3(x))    # output shape: (batch, 1, 64)\n",
        "        x = self.upsample(x)                 # shape: (batch, 1, 75)\n",
        "        x = x.squeeze(1)                   # remove channel dimension -> (batch, 75)\n",
        "        return x\n",
        "\n",
        "\n",
        "\n",
        "# Define the VAE model\n",
        "class ConditionalVAE(nn.Module):\n",
        "    def __init__(self, latent_dim, output_dim, condition_dim):\n",
        "        super(ConditionalVAE, self).__init__()\n",
        "        self.encoder = Encoder(latent_dim)\n",
        "        self.decoder = Decoder(latent_dim, output_dim, condition_dim)\n",
        "\n",
        "    def encode(self, x):\n",
        "        mu, logvar = self.encoder(x)\n",
        "        return mu, logvar\n",
        "\n",
        "    def reparameterize(self, mu, logvar):\n",
        "        std = torch.exp(0.5 * logvar)\n",
        "        eps = torch.randn_like(std)\n",
        "        z = mu + eps * std\n",
        "        return z\n",
        "\n",
        "    def decode(self, z, condition):\n",
        "        return self.decoder(z, condition)\n",
        "\n",
        "    def forward(self, x, condition):\n",
        "        mu, logvar = self.encode(x)\n",
        "        z = self.reparameterize(mu, logvar)\n",
        "        output = self.decode(z, condition)\n",
        "        return output, mu, logvar"
      ]
    },
    {
      "cell_type": "code",
      "execution_count": 32,
      "metadata": {},
      "outputs": [
        {
          "name": "stdout",
          "output_type": "stream",
          "text": [
            "\n"
          ]
        }
      ],
      "source": [
        "batch_size = 128\n",
        "\n",
        "train_dataset = TensorDataset(psi_train_shift_one, psi_train_input)\n",
        "train_loader = DataLoader(train_dataset, batch_size=batch_size, shuffle=True)\n",
        "\n",
        "val_dataset = TensorDataset(psi_val_shift_one, psi_val_input)\n",
        "val_loader = DataLoader(val_dataset, batch_size=batch_size, shuffle=False)\n",
        "print()\n",
        "\n"
      ]
    },
    {
      "cell_type": "code",
      "execution_count": 33,
      "metadata": {},
      "outputs": [
        {
          "name": "stdout",
          "output_type": "stream",
          "text": [
            "Epoch 1, Training Loss: 401.5826\n",
            "Epoch 1, Validation Loss: 97.8923\n",
            "Epoch 2, Training Loss: 84.7654\n",
            "Epoch 2, Validation Loss: 78.0831\n",
            "Epoch 3, Training Loss: 74.1957\n",
            "Epoch 3, Validation Loss: 75.8849\n",
            "Epoch 4, Training Loss: 69.5397\n",
            "Epoch 4, Validation Loss: 67.9140\n",
            "Epoch 5, Training Loss: 66.2704\n",
            "Epoch 5, Validation Loss: 65.8143\n",
            "Epoch 6, Training Loss: 62.4048\n",
            "Epoch 6, Validation Loss: 63.2982\n",
            "Epoch 7, Training Loss: 59.0774\n",
            "Epoch 7, Validation Loss: 62.4707\n",
            "Epoch 8, Training Loss: 56.0587\n",
            "Epoch 8, Validation Loss: 58.8344\n",
            "Epoch 9, Training Loss: 53.6494\n",
            "Epoch 9, Validation Loss: 55.9466\n",
            "Epoch 10, Training Loss: 51.0039\n",
            "Epoch 10, Validation Loss: 48.8927\n"
          ]
        }
      ],
      "source": [
        "import torch\n",
        "import torch.optim as optim\n",
        "from torch.utils.data import TensorDataset, DataLoader\n",
        "\n",
        "# Hyperparameters\n",
        "output_dim = 75\n",
        "condition_dim = 75\n",
        "latent_dim = 2\n",
        "batch_size = 128\n",
        "num_epochs = 10\n",
        "\n",
        "# Initialize the model, optimizer, and loss function\n",
        "model = ConditionalVAE(latent_dim, output_dim, condition_dim)\n",
        "device = torch.device(\"cuda\" if torch.cuda.is_available() else \"cpu\")\n",
        "model = model.to(device)\n",
        "\n",
        "optimizer = optim.Adam(model.parameters(), lr=0.001)\n",
        "\n",
        "# Create datasets and DataLoaders.\n",
        "# Order is important: (target, condition)\n",
        "train_dataset = TensorDataset(psi_train_shift_one, psi_train_input)\n",
        "train_loader = DataLoader(train_dataset, batch_size=batch_size, shuffle=True)\n",
        "\n",
        "val_dataset = TensorDataset(psi_val_shift_one, psi_val_input)\n",
        "val_loader = DataLoader(val_dataset, batch_size=batch_size, shuffle=False)\n",
        "\n",
        "# Training loop using the DataLoader\n",
        "for epoch in range(num_epochs):\n",
        "    model.train()\n",
        "    running_loss = 0.0\n",
        "    \n",
        "    for label_batch, input_batch in train_loader:\n",
        "        # Move data to device\n",
        "        label_batch = label_batch.to(device)\n",
        "        input_batch = input_batch.to(device)\n",
        "        \n",
        "        optimizer.zero_grad()\n",
        "        \n",
        "        # Forward pass: label_batch is used to compute the latent distribution,\n",
        "        # while input_batch is passed to the decoder as the condition.\n",
        "        reconstructed, mu, logvar = model(label_batch, input_batch)\n",
        "        \n",
        "        # Compute reconstruction loss (sum of squared errors)\n",
        "        reconstruction_loss = ((reconstructed - label_batch) ** 2).sum()\n",
        "        \n",
        "        # Compute KL divergence loss\n",
        "        kl_loss = 0.5 * (mu.pow(2) + torch.exp(logvar) - 1 - logvar).sum()\n",
        "        \n",
        "        # Combine losses (with KL weighted by 0.01)\n",
        "        loss = reconstruction_loss + 0.01 * kl_loss\n",
        "        \n",
        "        loss.backward()\n",
        "        optimizer.step()\n",
        "        \n",
        "        running_loss += loss.item()\n",
        "    \n",
        "    avg_train_loss = running_loss / len(train_loader)\n",
        "    print(f\"Epoch {epoch+1}, Training Loss: {avg_train_loss:.4f}\")\n",
        "    \n",
        "    # Validation loop\n",
        "    model.eval()\n",
        "    running_val_loss = 0.0\n",
        "    with torch.no_grad():\n",
        "        for label_batch, input_batch in val_loader:\n",
        "            label_batch = label_batch.to(device)\n",
        "            input_batch = input_batch.to(device)\n",
        "            \n",
        "            reconstructed, mu, logvar = model(label_batch, input_batch)\n",
        "            \n",
        "            reconstruction_loss = ((reconstructed - label_batch) ** 2).sum()\n",
        "            kl_loss = 0.5 * (mu.pow(2) + torch.exp(logvar) - 1 - logvar).sum()\n",
        "            loss = reconstruction_loss + 0.01 * kl_loss\n",
        "            \n",
        "            running_val_loss += loss.item()\n",
        "    \n",
        "    avg_val_loss = running_val_loss / len(val_loader)\n",
        "    print(f\"Epoch {epoch+1}, Validation Loss: {avg_val_loss:.4f}\")\n"
      ]
    },
    {
      "cell_type": "code",
      "execution_count": 34,
      "metadata": {},
      "outputs": [
        {
          "data": {
            "text/plain": [
              "<generator object Module.parameters at 0x7fcd8f277140>"
            ]
          },
          "execution_count": 34,
          "metadata": {},
          "output_type": "execute_result"
        }
      ],
      "source": [
        "model.parameters()"
      ]
    },
    {
      "cell_type": "code",
      "execution_count": 35,
      "metadata": {},
      "outputs": [
        {
          "ename": "NameError",
          "evalue": "name 'hidden_dim' is not defined",
          "output_type": "error",
          "traceback": [
            "\u001b[0;31m---------------------------------------------------------------------------\u001b[0m",
            "\u001b[0;31mNameError\u001b[0m                                 Traceback (most recent call last)",
            "Cell \u001b[0;32mIn[35], line 7\u001b[0m\n\u001b[1;32m      4\u001b[0m output_dim \u001b[38;5;241m=\u001b[39m \u001b[38;5;241m75\u001b[39m      \u001b[38;5;66;03m# Output dimension (predicting next state)\u001b[39;00m\n\u001b[1;32m      5\u001b[0m condition_dim \u001b[38;5;241m=\u001b[39m \u001b[38;5;241m75\u001b[39m   \u001b[38;5;66;03m# Conditioning on psi[t]\u001b[39;00m\n\u001b[0;32m----> 7\u001b[0m model \u001b[38;5;241m=\u001b[39m ConditionalVAE(input_dim, latent_dim, output_dim, condition_dim, \u001b[43mhidden_dim\u001b[49m)\n\u001b[1;32m      8\u001b[0m device \u001b[38;5;241m=\u001b[39m torch\u001b[38;5;241m.\u001b[39mdevice(\u001b[38;5;124m\"\u001b[39m\u001b[38;5;124mcuda\u001b[39m\u001b[38;5;124m\"\u001b[39m \u001b[38;5;28;01mif\u001b[39;00m torch\u001b[38;5;241m.\u001b[39mcuda\u001b[38;5;241m.\u001b[39mis_available() \u001b[38;5;28;01melse\u001b[39;00m \u001b[38;5;124m\"\u001b[39m\u001b[38;5;124mcpu\u001b[39m\u001b[38;5;124m\"\u001b[39m)\n\u001b[1;32m      9\u001b[0m model\u001b[38;5;241m.\u001b[39mto(device)\n",
            "\u001b[0;31mNameError\u001b[0m: name 'hidden_dim' is not defined"
          ]
        }
      ],
      "source": [
        "# Initialize the model, optimizer, etc.\n",
        "input_dim = 75       # Input dimension (75D vector)\n",
        "latent_dim = 64      # Latent space size\n",
        "output_dim = 75      # Output dimension (predicting next state)\n",
        "condition_dim = 75   # Conditioning on psi[t]\n",
        "\n",
        "model = ConditionalVAE(input_dim, latent_dim, output_dim, condition_dim, hidden_dim)\n",
        "device = torch.device(\"cuda\" if torch.cuda.is_available() else \"cpu\")\n",
        "model.to(device)\n",
        "optimizer = optim.Adam(model.parameters(), lr=1e-3)\n",
        "\n",
        "def vae_loss(recon_x, x, mu, logvar, kl_weight=0.0001):\n",
        "    # Reconstruction loss (MSE)\n",
        "    recon_loss = nn.MSELoss()(recon_x, x)\n",
        "    # KL Divergence loss, averaged over the batch\n",
        "    kl_loss = -0.5 * torch.sum(1 + logvar - mu.pow(2) - logvar.exp()) / x.shape[0]\n",
        "    return recon_loss + kl_weight * kl_loss\n",
        "\n",
        "\n",
        "num_epochs = 50\n",
        "for epoch in range(num_epochs):\n",
        "    model.train()\n",
        "    optimizer.zero_grad()\n",
        "    \n",
        "    train_input = psi_train_input.to(device)\n",
        "    train_target = psi_train_shift_one.to(device)\n",
        "\n",
        "    #Forward pass\n",
        "    original_vector, mu, logvar = model(train_target, train_input)\n",
        "    \n",
        "    # Compute loss comparing output with psi_train_shift_one\n",
        "    loss = vae_loss(original_vector, train_target, mu, logvar)\n",
        "    \n",
        "    # Backward pass and optimization\n",
        "    loss.backward()\n",
        "    optimizer.step()\n",
        "    \n",
        "    if epoch % 3 == 0:\n",
        "        print(f\"Epoch {epoch}, Loss: {loss.item():.4f}\")"
      ]
    },
    {
      "cell_type": "code",
      "execution_count": 38,
      "metadata": {},
      "outputs": [
        {
          "name": "stdout",
          "output_type": "stream",
          "text": [
            "Type: <class 'numpy.ndarray'>\n",
            "Shape: (75,)\n"
          ]
        },
        {
          "ename": "RuntimeError",
          "evalue": "Sizes of tensors must match except in dimension 1. Expected size 64 but got size 75 for tensor number 1 in the list.",
          "output_type": "error",
          "traceback": [
            "\u001b[0;31m---------------------------------------------------------------------------\u001b[0m",
            "\u001b[0;31mRuntimeError\u001b[0m                              Traceback (most recent call last)",
            "Cell \u001b[0;32mIn[38], line 18\u001b[0m\n\u001b[1;32m     15\u001b[0m z \u001b[38;5;241m=\u001b[39m torch\u001b[38;5;241m.\u001b[39mrandn((\u001b[38;5;241m1\u001b[39m, \u001b[38;5;241m1\u001b[39m, latent_dim))\u001b[38;5;241m.\u001b[39mto(device)\n\u001b[1;32m     17\u001b[0m \u001b[38;5;66;03m# Decode using the current condition; this will concatenate z and initial_cond along dim=2\u001b[39;00m\n\u001b[0;32m---> 18\u001b[0m y \u001b[38;5;241m=\u001b[39m \u001b[43mmodel\u001b[49m\u001b[38;5;241;43m.\u001b[39;49m\u001b[43mdecode\u001b[49m\u001b[43m(\u001b[49m\u001b[43mz\u001b[49m\u001b[43m,\u001b[49m\u001b[43m \u001b[49m\u001b[43minitial_cond\u001b[49m\u001b[43m)\u001b[49m\n\u001b[1;32m     20\u001b[0m \u001b[38;5;66;03m# y now has shape [1, 1, 75]; remove the extra dimensions\u001b[39;00m\n\u001b[1;32m     21\u001b[0m y_np \u001b[38;5;241m=\u001b[39m y\u001b[38;5;241m.\u001b[39msqueeze(\u001b[38;5;241m0\u001b[39m)\u001b[38;5;241m.\u001b[39msqueeze(\u001b[38;5;241m0\u001b[39m)\u001b[38;5;241m.\u001b[39mdetach()\u001b[38;5;241m.\u001b[39mcpu()\u001b[38;5;241m.\u001b[39mnumpy()  \u001b[38;5;66;03m# now y_np is [75]\u001b[39;00m\n",
            "Cell \u001b[0;32mIn[31], line 86\u001b[0m, in \u001b[0;36mConditionalVAE.decode\u001b[0;34m(self, z, condition)\u001b[0m\n\u001b[1;32m     85\u001b[0m \u001b[38;5;28;01mdef\u001b[39;00m \u001b[38;5;21mdecode\u001b[39m(\u001b[38;5;28mself\u001b[39m, z, condition):\n\u001b[0;32m---> 86\u001b[0m     \u001b[38;5;28;01mreturn\u001b[39;00m \u001b[38;5;28;43mself\u001b[39;49m\u001b[38;5;241;43m.\u001b[39;49m\u001b[43mdecoder\u001b[49m\u001b[43m(\u001b[49m\u001b[43mz\u001b[49m\u001b[43m,\u001b[49m\u001b[43m \u001b[49m\u001b[43mcondition\u001b[49m\u001b[43m)\u001b[49m\n",
            "File \u001b[0;32m~/.local/lib/python3.10/site-packages/torch/nn/modules/module.py:1736\u001b[0m, in \u001b[0;36mModule._wrapped_call_impl\u001b[0;34m(self, *args, **kwargs)\u001b[0m\n\u001b[1;32m   1734\u001b[0m     \u001b[38;5;28;01mreturn\u001b[39;00m \u001b[38;5;28mself\u001b[39m\u001b[38;5;241m.\u001b[39m_compiled_call_impl(\u001b[38;5;241m*\u001b[39margs, \u001b[38;5;241m*\u001b[39m\u001b[38;5;241m*\u001b[39mkwargs)  \u001b[38;5;66;03m# type: ignore[misc]\u001b[39;00m\n\u001b[1;32m   1735\u001b[0m \u001b[38;5;28;01melse\u001b[39;00m:\n\u001b[0;32m-> 1736\u001b[0m     \u001b[38;5;28;01mreturn\u001b[39;00m \u001b[38;5;28;43mself\u001b[39;49m\u001b[38;5;241;43m.\u001b[39;49m\u001b[43m_call_impl\u001b[49m\u001b[43m(\u001b[49m\u001b[38;5;241;43m*\u001b[39;49m\u001b[43margs\u001b[49m\u001b[43m,\u001b[49m\u001b[43m \u001b[49m\u001b[38;5;241;43m*\u001b[39;49m\u001b[38;5;241;43m*\u001b[39;49m\u001b[43mkwargs\u001b[49m\u001b[43m)\u001b[49m\n",
            "File \u001b[0;32m~/.local/lib/python3.10/site-packages/torch/nn/modules/module.py:1747\u001b[0m, in \u001b[0;36mModule._call_impl\u001b[0;34m(self, *args, **kwargs)\u001b[0m\n\u001b[1;32m   1742\u001b[0m \u001b[38;5;66;03m# If we don't have any hooks, we want to skip the rest of the logic in\u001b[39;00m\n\u001b[1;32m   1743\u001b[0m \u001b[38;5;66;03m# this function, and just call forward.\u001b[39;00m\n\u001b[1;32m   1744\u001b[0m \u001b[38;5;28;01mif\u001b[39;00m \u001b[38;5;129;01mnot\u001b[39;00m (\u001b[38;5;28mself\u001b[39m\u001b[38;5;241m.\u001b[39m_backward_hooks \u001b[38;5;129;01mor\u001b[39;00m \u001b[38;5;28mself\u001b[39m\u001b[38;5;241m.\u001b[39m_backward_pre_hooks \u001b[38;5;129;01mor\u001b[39;00m \u001b[38;5;28mself\u001b[39m\u001b[38;5;241m.\u001b[39m_forward_hooks \u001b[38;5;129;01mor\u001b[39;00m \u001b[38;5;28mself\u001b[39m\u001b[38;5;241m.\u001b[39m_forward_pre_hooks\n\u001b[1;32m   1745\u001b[0m         \u001b[38;5;129;01mor\u001b[39;00m _global_backward_pre_hooks \u001b[38;5;129;01mor\u001b[39;00m _global_backward_hooks\n\u001b[1;32m   1746\u001b[0m         \u001b[38;5;129;01mor\u001b[39;00m _global_forward_hooks \u001b[38;5;129;01mor\u001b[39;00m _global_forward_pre_hooks):\n\u001b[0;32m-> 1747\u001b[0m     \u001b[38;5;28;01mreturn\u001b[39;00m \u001b[43mforward_call\u001b[49m\u001b[43m(\u001b[49m\u001b[38;5;241;43m*\u001b[39;49m\u001b[43margs\u001b[49m\u001b[43m,\u001b[49m\u001b[43m \u001b[49m\u001b[38;5;241;43m*\u001b[39;49m\u001b[38;5;241;43m*\u001b[39;49m\u001b[43mkwargs\u001b[49m\u001b[43m)\u001b[49m\n\u001b[1;32m   1749\u001b[0m result \u001b[38;5;241m=\u001b[39m \u001b[38;5;28;01mNone\u001b[39;00m\n\u001b[1;32m   1750\u001b[0m called_always_called_hooks \u001b[38;5;241m=\u001b[39m \u001b[38;5;28mset\u001b[39m()\n",
            "Cell \u001b[0;32mIn[31], line 56\u001b[0m, in \u001b[0;36mDecoder.forward\u001b[0;34m(self, z, condition)\u001b[0m\n\u001b[1;32m     54\u001b[0m \u001b[38;5;28;01mdef\u001b[39;00m \u001b[38;5;21mforward\u001b[39m(\u001b[38;5;28mself\u001b[39m, z, condition):\n\u001b[1;32m     55\u001b[0m     \u001b[38;5;66;03m# z: (batch, latent_dim) and condition: (batch, condition_dim)\u001b[39;00m\n\u001b[0;32m---> 56\u001b[0m     z \u001b[38;5;241m=\u001b[39m \u001b[43mtorch\u001b[49m\u001b[38;5;241;43m.\u001b[39;49m\u001b[43mcat\u001b[49m\u001b[43m(\u001b[49m\u001b[43m(\u001b[49m\u001b[43mz\u001b[49m\u001b[43m,\u001b[49m\u001b[43m \u001b[49m\u001b[43mcondition\u001b[49m\u001b[43m)\u001b[49m\u001b[43m,\u001b[49m\u001b[43m \u001b[49m\u001b[43mdim\u001b[49m\u001b[38;5;241;43m=\u001b[39;49m\u001b[38;5;241;43m1\u001b[39;49m\u001b[43m)\u001b[49m  \u001b[38;5;66;03m# shape: (batch, latent_dim+condition_dim)\u001b[39;00m\n\u001b[1;32m     57\u001b[0m     x \u001b[38;5;241m=\u001b[39m \u001b[38;5;28mself\u001b[39m\u001b[38;5;241m.\u001b[39mfc(z)                      \u001b[38;5;66;03m# shape: (batch, 128*16)\u001b[39;00m\n\u001b[1;32m     58\u001b[0m     x \u001b[38;5;241m=\u001b[39m x\u001b[38;5;241m.\u001b[39mview(\u001b[38;5;241m-\u001b[39m\u001b[38;5;241m1\u001b[39m, \u001b[38;5;241m128\u001b[39m, \u001b[38;5;241m16\u001b[39m)              \u001b[38;5;66;03m# reshape to (batch, 128, 16)\u001b[39;00m\n",
            "\u001b[0;31mRuntimeError\u001b[0m: Sizes of tensors must match except in dimension 1. Expected size 64 but got size 75 for tensor number 1 in the list."
          ]
        }
      ],
      "source": [
        "psi0 = np.array(psi[0])\n",
        "print(\"Type:\", type(psi0))\n",
        "print(\"Shape:\", psi0.shape)\n",
        "\n",
        "\n",
        "# Ensure the initial condition has shape [batch, sequence, features]\n",
        "initial_cond = torch.tensor(psi[0, :75], dtype=torch.float32).reshape(1, 1, 75).to(device)\n",
        "\n",
        "time_steps = 20000\n",
        "num_ens = 1\n",
        "pred = np.zeros((time_steps, 75, num_ens))\n",
        "\n",
        "for k in range(time_steps):\n",
        "    for ens in range(num_ens):\n",
        "        z = torch.randn((1, 1, latent_dim)).to(device)\n",
        "        \n",
        "        # Decode using the current condition; this will concatenate z and initial_cond along dim=2\n",
        "        y = model.decode(z, initial_cond)\n",
        "        \n",
        "        # y now has shape [1, 1, 75]; remove the extra dimensions\n",
        "        y_np = y.squeeze(0).squeeze(0).detach().cpu().numpy()  # now y_np is [75]\n",
        "        pred[k, :, ens] = y_np\n",
        "        \n",
        "        # If you want to denormalize your output:\n",
        "        y_denorm = (y_np * std_psi + mean_psi)\n",
        "        \n",
        "        # Prepare the new condition for the next step:\n",
        "        # First re-normalize it if needed\n",
        "        new_input = (y_denorm - mean_psi) / std_psi\n",
        "        new_input = new_input[:, 0, :]\n",
        "\n",
        "        # Now, new_input should have shape (75,) (or (1,75) – either way, adjust accordingly)\n",
        "        initial_cond = torch.tensor(new_input, dtype=torch.float32).reshape(1, 1, 75).to(device)\n",
        "    \n",
        "    if k % 1000 == 0:\n",
        "        print(\"Time step:\", k)\n",
        "\n"
      ]
    },
    {
      "cell_type": "code",
      "execution_count": 110,
      "metadata": {},
      "outputs": [
        {
          "name": "stdout",
          "output_type": "stream",
          "text": [
            "Ensemble mean prediction for feature 63: [0.82659036 0.82633919 0.89028049 ... 1.39578521 1.36541986 1.3815614 ]\n",
            "Actual values for feature 63: [ 0.81283224  0.83083612  0.82165009 ... -0.63832313 -0.64161116\n",
            " -0.62363732]\n"
          ]
        }
      ],
      "source": [
        "# Denormalize final predictions:\n",
        "std_reshaped = std_psi[:, 0, :].reshape(1, 75, 1)\n",
        "mean_reshaped = mean_psi[:, 0, :].reshape(1, 75, 1)\n",
        "\n",
        "pred_denorm = pred * std_reshaped + mean_reshaped\n",
        "\n",
        "# For example, to compute the ensemble mean for feature 63:\n",
        "pred_mean = np.mean(pred_denorm[:, 63, :], axis=1)  # shape: (time_steps,)\n",
        "print(\"Ensemble mean prediction for feature 63:\", pred_mean)\n",
        "\n",
        "# Convert the first time_steps of test labels to a numpy array and denormalize feature 63:\n",
        "actual_values = psi_train_shift_one[:time_steps,0, 63].cpu().numpy() * std_psi[:, 0, 63] + mean_psi[:, 0, 63]\n",
        "print(\"Actual values for feature 63:\", actual_values)\n"
      ]
    },
    {
      "cell_type": "code",
      "execution_count": 111,
      "metadata": {
        "colab": {
          "base_uri": "https://localhost:8080/",
          "height": 447
        },
        "id": "uKQtdSgrKGu8",
        "outputId": "2b8b4b39-035b-44f5-84fc-5842a7cfcf25"
      },
      "outputs": [
        {
          "data": {
            "text/plain": [
              "[<matplotlib.lines.Line2D at 0x7f3ed21485e0>]"
            ]
          },
          "execution_count": 111,
          "metadata": {},
          "output_type": "execute_result"
        },
        {
          "data": {
            "image/png": "[encoded data removed]",
            "text/plain": [
              "<Figure size 640x480 with 1 Axes>"
            ]
          },
          "metadata": {},
          "output_type": "display_data"
        }
      ],
      "source": [
        "plt.plot(pred_mean[0:30000],'r')\n",
        "plt.plot(actual_values[0:30000],'b')\n"
      ]
    },
    {
      "cell_type": "code",
      "execution_count": 164,
      "metadata": {
        "colab": {
          "base_uri": "https://localhost:8080/"
        },
        "id": "CR3V41T9Nr6-",
        "outputId": "67f96665-ac3f-42d4-fd82-c9fc0f3b03da"
      },
      "outputs": [
        {
          "data": {
            "text/plain": [
              "array([6])"
            ]
          },
          "execution_count": 164,
          "metadata": {},
          "output_type": "execute_result"
        }
      ],
      "source": [
        "np.random.randint(0,9,1)"
      ]
    },
    {
      "cell_type": "code",
      "execution_count": 12,
      "metadata": {},
      "outputs": [],
      "source": [
        "np.savez(r'/home/fabio/work/HM_and_AI_models/VAE_Model/predictions' ,\n",
        "         predictions=pred_mean, mean_psi=mean_psi, std_psi=std_psi, actual_values=actual_values)"
      ]
    }
  ],
  "metadata": {
    "accelerator": "GPU",
    "colab": {
      "gpuType": "T4",
      "provenance": []
    },
    "kernelspec": {
      "display_name": "Python 3",
      "language": "python",
      "name": "python3"
    },
    "language_info": {
      "codemirror_mode": {
        "name": "ipython",
        "version": 3
      },
      "file_extension": ".py",
      "mimetype": "text/x-python",
      "name": "python",
      "nbconvert_exporter": "python",
      "pygments_lexer": "ipython3",
      "version": "3.10.12"
    }
  },
  "nbformat": 4,
  "nbformat_minor": 0
}
